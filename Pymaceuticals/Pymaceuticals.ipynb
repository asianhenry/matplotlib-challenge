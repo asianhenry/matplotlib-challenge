{
 "cells": [
  {
   "cell_type": "markdown",
   "metadata": {},
   "source": [
    "## Observations and Insights"
   ]
  },
  {
   "cell_type": "code",
   "execution_count": 1,
   "metadata": {},
   "outputs": [
    {
     "name": "stdout",
     "output_type": "stream",
     "text": [
      "Observations and Insights\n",
      "\n",
      "From just a general overview of the data analysis, we can see that out of all the treatments,\n",
      "there were only two treatments that showed promising results: Ramicane and Capomulin. From the summary\n",
      "statistics, those two treatments were the only ones with mean and median tumor volumes below the initial\n",
      "tumor volumes. Perhaps a better representation are the box plots of final tumor volumes showing those\n",
      "two treatments trending below the initial tumor volume of each mouse.\n",
      "\n",
      "We can also look more closely at data for mice treated with the Capomulin regimen, and see that it is\n",
      "indeed a promising treatment showing good results for tumor reduction. While the data analysis only shows \n",
      "the line plot for one specific mouse treated with the Capomulin regimen, when changing the observed mouse \n",
      "and briefly looking at the line plots for different mice treated with Capomulin, we can see that each mouse \n",
      "shows a general downward trend of the tumor volume.\n",
      "\n",
      "Lastly the linear regression analysis of Average Tumor Volume vs Mouse Weight for the Capomulin Regimen shows\n",
      "a decently strong linear trend between the two variables; correlation coefficient is 0.842. Since the initial\n",
      "tumor volumes were constant for each mouse, this perhaps suggests that a larger dose or some other variable change \n",
      "in treatment is required for larger or heavier mice (eventually people) to effectively reduce tumor volume.\n",
      "\n",
      "\n",
      "\n",
      "\n"
     ]
    }
   ],
   "source": [
    "f = open(\"observations/obs.txt\", \"r\")\n",
    "print(f.read())"
   ]
  },
  {
   "cell_type": "markdown",
   "metadata": {},
   "source": [
    "## Dependencies and starter code"
   ]
  },
  {
   "cell_type": "code",
   "execution_count": 2,
   "metadata": {},
   "outputs": [
    {
     "data": {
      "text/html": [
       "<div>\n",
       "<style scoped>\n",
       "    .dataframe tbody tr th:only-of-type {\n",
       "        vertical-align: middle;\n",
       "    }\n",
       "\n",
       "    .dataframe tbody tr th {\n",
       "        vertical-align: top;\n",
       "    }\n",
       "\n",
       "    .dataframe thead th {\n",
       "        text-align: right;\n",
       "    }\n",
       "</style>\n",
       "<table border=\"1\" class=\"dataframe\">\n",
       "  <thead>\n",
       "    <tr style=\"text-align: right;\">\n",
       "      <th></th>\n",
       "      <th>Mouse ID</th>\n",
       "      <th>Drug Regimen</th>\n",
       "      <th>Sex</th>\n",
       "      <th>Age_months</th>\n",
       "      <th>Weight (g)</th>\n",
       "      <th>Timepoint</th>\n",
       "      <th>Tumor Volume (mm3)</th>\n",
       "      <th>Metastatic Sites</th>\n",
       "    </tr>\n",
       "  </thead>\n",
       "  <tbody>\n",
       "    <tr>\n",
       "      <td>0</td>\n",
       "      <td>k403</td>\n",
       "      <td>Ramicane</td>\n",
       "      <td>Male</td>\n",
       "      <td>21</td>\n",
       "      <td>16</td>\n",
       "      <td>0</td>\n",
       "      <td>45.000000</td>\n",
       "      <td>0</td>\n",
       "    </tr>\n",
       "    <tr>\n",
       "      <td>1</td>\n",
       "      <td>k403</td>\n",
       "      <td>Ramicane</td>\n",
       "      <td>Male</td>\n",
       "      <td>21</td>\n",
       "      <td>16</td>\n",
       "      <td>5</td>\n",
       "      <td>38.825898</td>\n",
       "      <td>0</td>\n",
       "    </tr>\n",
       "    <tr>\n",
       "      <td>2</td>\n",
       "      <td>k403</td>\n",
       "      <td>Ramicane</td>\n",
       "      <td>Male</td>\n",
       "      <td>21</td>\n",
       "      <td>16</td>\n",
       "      <td>10</td>\n",
       "      <td>35.014271</td>\n",
       "      <td>1</td>\n",
       "    </tr>\n",
       "    <tr>\n",
       "      <td>3</td>\n",
       "      <td>k403</td>\n",
       "      <td>Ramicane</td>\n",
       "      <td>Male</td>\n",
       "      <td>21</td>\n",
       "      <td>16</td>\n",
       "      <td>15</td>\n",
       "      <td>34.223992</td>\n",
       "      <td>1</td>\n",
       "    </tr>\n",
       "    <tr>\n",
       "      <td>4</td>\n",
       "      <td>k403</td>\n",
       "      <td>Ramicane</td>\n",
       "      <td>Male</td>\n",
       "      <td>21</td>\n",
       "      <td>16</td>\n",
       "      <td>20</td>\n",
       "      <td>32.997729</td>\n",
       "      <td>1</td>\n",
       "    </tr>\n",
       "    <tr>\n",
       "      <td>5</td>\n",
       "      <td>k403</td>\n",
       "      <td>Ramicane</td>\n",
       "      <td>Male</td>\n",
       "      <td>21</td>\n",
       "      <td>16</td>\n",
       "      <td>25</td>\n",
       "      <td>33.464577</td>\n",
       "      <td>1</td>\n",
       "    </tr>\n",
       "    <tr>\n",
       "      <td>6</td>\n",
       "      <td>k403</td>\n",
       "      <td>Ramicane</td>\n",
       "      <td>Male</td>\n",
       "      <td>21</td>\n",
       "      <td>16</td>\n",
       "      <td>30</td>\n",
       "      <td>31.099498</td>\n",
       "      <td>1</td>\n",
       "    </tr>\n",
       "    <tr>\n",
       "      <td>7</td>\n",
       "      <td>k403</td>\n",
       "      <td>Ramicane</td>\n",
       "      <td>Male</td>\n",
       "      <td>21</td>\n",
       "      <td>16</td>\n",
       "      <td>35</td>\n",
       "      <td>26.546993</td>\n",
       "      <td>1</td>\n",
       "    </tr>\n",
       "    <tr>\n",
       "      <td>8</td>\n",
       "      <td>k403</td>\n",
       "      <td>Ramicane</td>\n",
       "      <td>Male</td>\n",
       "      <td>21</td>\n",
       "      <td>16</td>\n",
       "      <td>40</td>\n",
       "      <td>24.365505</td>\n",
       "      <td>1</td>\n",
       "    </tr>\n",
       "    <tr>\n",
       "      <td>9</td>\n",
       "      <td>k403</td>\n",
       "      <td>Ramicane</td>\n",
       "      <td>Male</td>\n",
       "      <td>21</td>\n",
       "      <td>16</td>\n",
       "      <td>45</td>\n",
       "      <td>22.050126</td>\n",
       "      <td>1</td>\n",
       "    </tr>\n",
       "  </tbody>\n",
       "</table>\n",
       "</div>"
      ],
      "text/plain": [
       "  Mouse ID Drug Regimen   Sex  Age_months  Weight (g)  Timepoint  \\\n",
       "0     k403     Ramicane  Male          21          16          0   \n",
       "1     k403     Ramicane  Male          21          16          5   \n",
       "2     k403     Ramicane  Male          21          16         10   \n",
       "3     k403     Ramicane  Male          21          16         15   \n",
       "4     k403     Ramicane  Male          21          16         20   \n",
       "5     k403     Ramicane  Male          21          16         25   \n",
       "6     k403     Ramicane  Male          21          16         30   \n",
       "7     k403     Ramicane  Male          21          16         35   \n",
       "8     k403     Ramicane  Male          21          16         40   \n",
       "9     k403     Ramicane  Male          21          16         45   \n",
       "\n",
       "   Tumor Volume (mm3)  Metastatic Sites  \n",
       "0           45.000000                 0  \n",
       "1           38.825898                 0  \n",
       "2           35.014271                 1  \n",
       "3           34.223992                 1  \n",
       "4           32.997729                 1  \n",
       "5           33.464577                 1  \n",
       "6           31.099498                 1  \n",
       "7           26.546993                 1  \n",
       "8           24.365505                 1  \n",
       "9           22.050126                 1  "
      ]
     },
     "execution_count": 2,
     "metadata": {},
     "output_type": "execute_result"
    }
   ],
   "source": [
    "# Dependencies and Setup\n",
    "import matplotlib.pyplot as plt\n",
    "import pandas as pd\n",
    "import scipy.stats as st\n",
    "import numpy as np\n",
    "\n",
    "# Study data files\n",
    "mouse_metadata = \"data/Mouse_metadata.csv\"\n",
    "study_results = \"data/Study_results.csv\"\n",
    "\n",
    "# Read the mouse data and the study results\n",
    "mouse_metadata = pd.read_csv(mouse_metadata)\n",
    "study_results = pd.read_csv(study_results)\n",
    "\n",
    "# Combine the data into a single dataset\n",
    "#merge_df = pd.merge(bitcoin_df,dash_df,on=\"Date\")\n",
    "mouse_data = pd.merge(mouse_metadata,study_results, on = \"Mouse ID\")\n",
    "mouse_data.head(10)"
   ]
  },
  {
   "cell_type": "markdown",
   "metadata": {},
   "source": [
    "## Summary statistics"
   ]
  },
  {
   "cell_type": "code",
   "execution_count": 3,
   "metadata": {},
   "outputs": [
    {
     "data": {
      "text/html": [
       "<div>\n",
       "<style scoped>\n",
       "    .dataframe tbody tr th:only-of-type {\n",
       "        vertical-align: middle;\n",
       "    }\n",
       "\n",
       "    .dataframe tbody tr th {\n",
       "        vertical-align: top;\n",
       "    }\n",
       "\n",
       "    .dataframe thead th {\n",
       "        text-align: right;\n",
       "    }\n",
       "</style>\n",
       "<table border=\"1\" class=\"dataframe\">\n",
       "  <thead>\n",
       "    <tr style=\"text-align: right;\">\n",
       "      <th></th>\n",
       "      <th>Mean Tumor Volume</th>\n",
       "      <th>Median Tumor Volume</th>\n",
       "      <th>Variance Tumor Volume</th>\n",
       "      <th>Standard Deviation Tumor Volume</th>\n",
       "      <th>SEM Volume</th>\n",
       "    </tr>\n",
       "    <tr>\n",
       "      <th>Drug Regimen</th>\n",
       "      <th></th>\n",
       "      <th></th>\n",
       "      <th></th>\n",
       "      <th></th>\n",
       "      <th></th>\n",
       "    </tr>\n",
       "  </thead>\n",
       "  <tbody>\n",
       "    <tr>\n",
       "      <td>Ramicane</td>\n",
       "      <td>40.216745</td>\n",
       "      <td>40.673236</td>\n",
       "      <td>23.486704</td>\n",
       "      <td>4.846308</td>\n",
       "      <td>0.320955</td>\n",
       "    </tr>\n",
       "    <tr>\n",
       "      <td>Capomulin</td>\n",
       "      <td>40.675741</td>\n",
       "      <td>41.557809</td>\n",
       "      <td>24.947764</td>\n",
       "      <td>4.994774</td>\n",
       "      <td>0.329346</td>\n",
       "    </tr>\n",
       "    <tr>\n",
       "      <td>Propriva</td>\n",
       "      <td>52.322552</td>\n",
       "      <td>50.854632</td>\n",
       "      <td>42.351070</td>\n",
       "      <td>6.507770</td>\n",
       "      <td>0.512884</td>\n",
       "    </tr>\n",
       "    <tr>\n",
       "      <td>Ceftamin</td>\n",
       "      <td>52.591172</td>\n",
       "      <td>51.776157</td>\n",
       "      <td>39.290177</td>\n",
       "      <td>6.268188</td>\n",
       "      <td>0.469821</td>\n",
       "    </tr>\n",
       "    <tr>\n",
       "      <td>Infubinol</td>\n",
       "      <td>52.884795</td>\n",
       "      <td>51.820584</td>\n",
       "      <td>43.128684</td>\n",
       "      <td>6.567243</td>\n",
       "      <td>0.492236</td>\n",
       "    </tr>\n",
       "    <tr>\n",
       "      <td>Zoniferol</td>\n",
       "      <td>53.236507</td>\n",
       "      <td>51.818479</td>\n",
       "      <td>48.533355</td>\n",
       "      <td>6.966589</td>\n",
       "      <td>0.516398</td>\n",
       "    </tr>\n",
       "    <tr>\n",
       "      <td>Placebo</td>\n",
       "      <td>54.033581</td>\n",
       "      <td>52.288934</td>\n",
       "      <td>61.168083</td>\n",
       "      <td>7.821003</td>\n",
       "      <td>0.581331</td>\n",
       "    </tr>\n",
       "    <tr>\n",
       "      <td>Stelasyn</td>\n",
       "      <td>54.233149</td>\n",
       "      <td>52.431737</td>\n",
       "      <td>59.450562</td>\n",
       "      <td>7.710419</td>\n",
       "      <td>0.573111</td>\n",
       "    </tr>\n",
       "    <tr>\n",
       "      <td>Naftisol</td>\n",
       "      <td>54.331565</td>\n",
       "      <td>52.509285</td>\n",
       "      <td>66.173479</td>\n",
       "      <td>8.134708</td>\n",
       "      <td>0.596466</td>\n",
       "    </tr>\n",
       "    <tr>\n",
       "      <td>Ketapril</td>\n",
       "      <td>55.235638</td>\n",
       "      <td>53.698743</td>\n",
       "      <td>68.553577</td>\n",
       "      <td>8.279709</td>\n",
       "      <td>0.603860</td>\n",
       "    </tr>\n",
       "  </tbody>\n",
       "</table>\n",
       "</div>"
      ],
      "text/plain": [
       "              Mean Tumor Volume  Median Tumor Volume  Variance Tumor Volume  \\\n",
       "Drug Regimen                                                                  \n",
       "Ramicane              40.216745            40.673236              23.486704   \n",
       "Capomulin             40.675741            41.557809              24.947764   \n",
       "Propriva              52.322552            50.854632              42.351070   \n",
       "Ceftamin              52.591172            51.776157              39.290177   \n",
       "Infubinol             52.884795            51.820584              43.128684   \n",
       "Zoniferol             53.236507            51.818479              48.533355   \n",
       "Placebo               54.033581            52.288934              61.168083   \n",
       "Stelasyn              54.233149            52.431737              59.450562   \n",
       "Naftisol              54.331565            52.509285              66.173479   \n",
       "Ketapril              55.235638            53.698743              68.553577   \n",
       "\n",
       "              Standard Deviation Tumor Volume  SEM Volume  \n",
       "Drug Regimen                                               \n",
       "Ramicane                             4.846308    0.320955  \n",
       "Capomulin                            4.994774    0.329346  \n",
       "Propriva                             6.507770    0.512884  \n",
       "Ceftamin                             6.268188    0.469821  \n",
       "Infubinol                            6.567243    0.492236  \n",
       "Zoniferol                            6.966589    0.516398  \n",
       "Placebo                              7.821003    0.581331  \n",
       "Stelasyn                             7.710419    0.573111  \n",
       "Naftisol                             8.134708    0.596466  \n",
       "Ketapril                             8.279709    0.603860  "
      ]
     },
     "execution_count": 3,
     "metadata": {},
     "output_type": "execute_result"
    }
   ],
   "source": [
    "# Generate a summary statistics table of mean, median, variance, standard deviation, and SEM of the tumor volume for each regimen\n",
    "\n",
    "#groupby\n",
    "regimen = mouse_data.groupby('Drug Regimen')\n",
    "#constructing the summary table\n",
    "#mean\n",
    "regimen_df = pd.DataFrame(regimen['Tumor Volume (mm3)'].mean())\n",
    "regimen_df = regimen_df.rename(columns = {'Tumor Volume (mm3)':'Mean Tumor Volume'})\n",
    "#median\n",
    "regimen_df['Median Tumor Volume'] = regimen['Tumor Volume (mm3)'].median()\n",
    "#variance\n",
    "regimen_df['Variance Tumor Volume'] = regimen['Tumor Volume (mm3)'].var()\n",
    "#standard deviation\n",
    "regimen_df['Standard Deviation Tumor Volume'] = regimen['Tumor Volume (mm3)'].std()\n",
    "#SEM\n",
    "regimen_df['SEM Volume'] = regimen['Tumor Volume (mm3)'].sem()\n",
    "#sort them by least to greatest mean tumor volume\n",
    "regimen_df = regimen_df.sort_values(\"Mean Tumor Volume\")\n",
    "regimen_df\n",
    "\n"
   ]
  },
  {
   "cell_type": "markdown",
   "metadata": {},
   "source": [
    "## Bar plots"
   ]
  },
  {
   "cell_type": "code",
   "execution_count": 4,
   "metadata": {},
   "outputs": [
    {
     "data": {
      "text/plain": [
       "Text(0, 0.5, 'Data Points')"
      ]
     },
     "execution_count": 4,
     "metadata": {},
     "output_type": "execute_result"
    },
    {
     "data": {
      "image/png": "[encoded data removed]",
      "text/plain": [
       "<Figure size 432x288 with 1 Axes>"
      ]
     },
     "metadata": {
      "needs_background": "light"
     },
     "output_type": "display_data"
    }
   ],
   "source": [
    "# Generate a bar plot showing number of data points for each treatment regimen using pandas\n",
    "\n",
    "#originally did this but can actually just to a value_counts. comes out sorted descending too\n",
    "#data_points_df = pd.DataFrame(regimen['Drug Regimen'].count())\n",
    "#data_points_df = data_points_df.sort_values(\"Data Points\",ascending=False)\n",
    "\n",
    "data_points_df = pd.DataFrame(mouse_data['Drug Regimen'].value_counts())\n",
    "data_points_df = data_points_df.rename(columns = {'Drug Regimen':'Data Points'})\n",
    "#plot!\n",
    "myplot = data_points_df.plot(kind = 'bar',title='Drug Regimen Data Points', legend = False, rot = 80)\n",
    "myplot.set_ylabel(\"Data Points\")\n",
    "#data_points_df"
   ]
  },
  {
   "cell_type": "code",
   "execution_count": 5,
   "metadata": {},
   "outputs": [
    {
     "data": {
      "image/png": "[encoded data removed]",
      "text/plain": [
       "<Figure size 432x288 with 1 Axes>"
      ]
     },
     "metadata": {
      "needs_background": "light"
     },
     "output_type": "display_data"
    }
   ],
   "source": [
    "# Generate a bar plot showing number of data points for each treatment regimen using pyplot\n",
    "\n",
    "#reset index here so we can call the drug regimen column\n",
    "data_points_df = data_points_df.reset_index()\n",
    "#data_points_df\n",
    "#set x and y axis from columns\n",
    "x_axis= data_points_df['index']\n",
    "y_axis = data_points_df['Data Points']\n",
    "\n",
    "#construct plot\n",
    "#I'll just change the color here\n",
    "plt.bar(x_axis, y_axis, width = .6, color = 'gray')\n",
    "#rotate the x axis labels\n",
    "plt.xticks(rotation = 80) \n",
    "plt.ylim(0,max(data_points_df['Data Points'])+10)\n",
    "plt.xlabel(\"Drug Regimen\")\n",
    "plt.ylabel('Data Points')\n",
    "plt.title(\"Drug Regimen Data Points\")\n",
    "plt.show()"
   ]
  },
  {
   "cell_type": "markdown",
   "metadata": {},
   "source": [
    "## Pie plots"
   ]
  },
  {
   "cell_type": "code",
   "execution_count": 6,
   "metadata": {},
   "outputs": [
    {
     "data": {
      "text/plain": [
       "<matplotlib.axes._subplots.AxesSubplot at 0x1bfd2725c08>"
      ]
     },
     "execution_count": 6,
     "metadata": {},
     "output_type": "execute_result"
    },
    {
     "data": {
      "image/png": "[encoded data removed]",
      "text/plain": [
       "<Figure size 396x396 with 1 Axes>"
      ]
     },
     "metadata": {},
     "output_type": "display_data"
    }
   ],
   "source": [
    "# Generate a pie plot showing the distribution of female versus male mice using pandas\n",
    "\n",
    "#first we drop the mouse id duplicates, since all we care about is each unique mouse and its gender\n",
    "mice_gender = mouse_data.drop_duplicates(subset='Mouse ID')\n",
    "#df with gender and counts of each gender\n",
    "mice_gender_df = pd.DataFrame(mice_gender.groupby('Sex').count()['Mouse ID'])\n",
    "mice_gender_df =mice_gender_df.rename(columns = {'Mouse ID':'Counts'})\n",
    "#construst plot\n",
    "mice_gender_df.plot(kind ='pie' ,y = 'Counts', figsize = (5.5,5.5),autopct = \"%.1f%%\", colors = ['pink', 'blue'], legend = False,\n",
    "                       title = \"Mice Gender Distribution\",startangle=140)\n",
    "#mice_gender_df"
   ]
  },
  {
   "cell_type": "code",
   "execution_count": 7,
   "metadata": {},
   "outputs": [
    {
     "data": {
      "image/png": "[encoded data removed]",
      "text/plain": [
       "<Figure size 360x360 with 1 Axes>"
      ]
     },
     "metadata": {},
     "output_type": "display_data"
    }
   ],
   "source": [
    "# Generate a pie plot showing the distribution of female versus male mice using pyplot\n",
    "#similar to before we need to reset the index\n",
    "mice_gender_df = mice_gender_df.reset_index()\n",
    "\n",
    "#use these columns for parameters for the pie chart\n",
    "counts = mice_gender_df['Counts']\n",
    "gender = mice_gender_df['Sex']\n",
    "\n",
    "#found a bunch of colors here\n",
    "#https://matplotlib.org/3.1.0/gallery/color/named_colors.html\n",
    "colors = [\"magenta\",\"deepskyblue\"]\n",
    "#contruct plot\n",
    "plt.figure(figsize = (5,5))\n",
    "plt.pie(counts, colors=colors,labels=gender, autopct=\"%.1f%%\", startangle=140)\n",
    "plt.title(\"Mice Gender Distribution\")\n",
    "plt.axis(\"equal\")\n",
    "plt.show()"
   ]
  },
  {
   "cell_type": "markdown",
   "metadata": {},
   "source": [
    "## Quartiles, outliers and boxplots"
   ]
  },
  {
   "cell_type": "code",
   "execution_count": 9,
   "metadata": {},
   "outputs": [],
   "source": [
    "#Calculate the final tumor volume of each mouse across four of the most promising treatment regimens.\n",
    "\n",
    "#treatments given in directions\n",
    "top_four_treatments=['Capomulin', 'Ramicane', 'Infubinol','Ceftamin']\n",
    "\n",
    "#create df with the final tumor volumes for each mouse treated with the top four most promising treatements\n",
    "#we can do a drop duplicate and keep the last row becuase that is the final timepoint for each mouse\n",
    "tumor_df1 = mouse_data.drop_duplicates(subset = ['Mouse ID'], keep ='last')\n",
    "tumor_df1 = tumor_df1[['Mouse ID','Drug Regimen','Tumor Volume (mm3)']]\n",
    "tumor_df1 = tumor_df1.rename(columns = {'Tumor Volume (mm3)':'Final Tumor Volume'})\n",
    "#filter the df down drug regimen column with only the top four treatments\n",
    "tumor_df1 = tumor_df1.loc[(tumor_df1['Drug Regimen'].isin(top_four_treatments)),:]\n",
    "tumor_df1=tumor_df1.reset_index(drop=True)\n",
    "#tumor_df1"
   ]
  },
  {
   "cell_type": "code",
   "execution_count": 10,
   "metadata": {},
   "outputs": [
    {
     "data": {
      "text/html": [
       "<div>\n",
       "<style scoped>\n",
       "    .dataframe tbody tr th:only-of-type {\n",
       "        vertical-align: middle;\n",
       "    }\n",
       "\n",
       "    .dataframe tbody tr th {\n",
       "        vertical-align: top;\n",
       "    }\n",
       "\n",
       "    .dataframe thead th {\n",
       "        text-align: right;\n",
       "    }\n",
       "</style>\n",
       "<table border=\"1\" class=\"dataframe\">\n",
       "  <thead>\n",
       "    <tr style=\"text-align: right;\">\n",
       "      <th></th>\n",
       "      <th>Lower Quartile</th>\n",
       "      <th>Median</th>\n",
       "      <th>Upper Quartile</th>\n",
       "      <th>IQR</th>\n",
       "      <th>Lower Bound</th>\n",
       "      <th>Upper Bound</th>\n",
       "      <th>Outlier Values</th>\n",
       "    </tr>\n",
       "    <tr>\n",
       "      <th>Drug Regimen</th>\n",
       "      <th></th>\n",
       "      <th></th>\n",
       "      <th></th>\n",
       "      <th></th>\n",
       "      <th></th>\n",
       "      <th></th>\n",
       "      <th></th>\n",
       "    </tr>\n",
       "  </thead>\n",
       "  <tbody>\n",
       "    <tr>\n",
       "      <td>Capomulin</td>\n",
       "      <td>32.38</td>\n",
       "      <td>38.13</td>\n",
       "      <td>40.16</td>\n",
       "      <td>7.78</td>\n",
       "      <td>20.71</td>\n",
       "      <td>51.83</td>\n",
       "      <td>n/a</td>\n",
       "    </tr>\n",
       "    <tr>\n",
       "      <td>Ramicane</td>\n",
       "      <td>31.56</td>\n",
       "      <td>36.56</td>\n",
       "      <td>40.66</td>\n",
       "      <td>9.10</td>\n",
       "      <td>17.91</td>\n",
       "      <td>54.31</td>\n",
       "      <td>n/a</td>\n",
       "    </tr>\n",
       "    <tr>\n",
       "      <td>Infubinol</td>\n",
       "      <td>54.05</td>\n",
       "      <td>60.17</td>\n",
       "      <td>65.53</td>\n",
       "      <td>11.48</td>\n",
       "      <td>36.83</td>\n",
       "      <td>82.75</td>\n",
       "      <td>[36.32]</td>\n",
       "    </tr>\n",
       "    <tr>\n",
       "      <td>Ceftamin</td>\n",
       "      <td>48.72</td>\n",
       "      <td>59.85</td>\n",
       "      <td>64.30</td>\n",
       "      <td>15.58</td>\n",
       "      <td>25.35</td>\n",
       "      <td>87.67</td>\n",
       "      <td>n/a</td>\n",
       "    </tr>\n",
       "  </tbody>\n",
       "</table>\n",
       "</div>"
      ],
      "text/plain": [
       "              Lower Quartile  Median  Upper Quartile    IQR  Lower Bound  \\\n",
       "Drug Regimen                                                               \n",
       "Capomulin              32.38   38.13           40.16   7.78        20.71   \n",
       "Ramicane               31.56   36.56           40.66   9.10        17.91   \n",
       "Infubinol              54.05   60.17           65.53  11.48        36.83   \n",
       "Ceftamin               48.72   59.85           64.30  15.58        25.35   \n",
       "\n",
       "              Upper Bound Outlier Values  \n",
       "Drug Regimen                              \n",
       "Capomulin           51.83            n/a  \n",
       "Ramicane            54.31            n/a  \n",
       "Infubinol           82.75        [36.32]  \n",
       "Ceftamin            87.67            n/a  "
      ]
     },
     "execution_count": 10,
     "metadata": {},
     "output_type": "execute_result"
    }
   ],
   "source": [
    "#Calculate the IQR and quantitatively determine if there are any potential outliers.\n",
    "\n",
    "#Going to create a df with the IQR analysis, doesn't say we have to do this but seems like a good way\n",
    "#data frame will include quartiles, iqr, bounds, and outlier values across the four treatments\n",
    "\n",
    "#creating empty lists that will be used to create the IQR analysis df\n",
    "#quartiles, outliers\n",
    "lowerq=[]\n",
    "median=[]\n",
    "upperq=[]\n",
    "outliercount=[]\n",
    "outliervalue=[]\n",
    "\n",
    "#use this loop to seperate each the four drug treatments and calculate quantiles.\n",
    "#will append these values to the empty lists\n",
    "for drug in top_four_treatments:\n",
    "    drug_df = tumor_df1.loc[(tumor_df1['Drug Regimen'] == drug),:]\n",
    "    quartiles = drug_df['Final Tumor Volume'].quantile([.25,.5,.75])\n",
    "    lowerq.append(round(quartiles[0.25],2))\n",
    "    median.append(round(quartiles[0.5],2))\n",
    "    upperq.append(round(quartiles[0.75],2))\n",
    "\n",
    "#use list comprehensions to create lists with calculated iqr and bounds from quartiles\n",
    "iqr=[upperq[i]-lowerq[i] for i in range(len(lowerq))]\n",
    "lower_bound=[lowerq[i]-1.5*iqr[i] for i in range(len(lowerq))]\n",
    "upper_bound=[upperq[i]+1.5*iqr[i] for i in range(len(upperq))]\n",
    "\n",
    "\n",
    "#this loop will actually create a seperate df with only outliers for each seperate df\n",
    "#then it will append a list of outliers for each seperate treatment to the list 'outliervalue'\n",
    "for i in range(len(top_four_treatments)):\n",
    "    drug_df = tumor_df1.loc[(tumor_df1['Drug Regimen'] == top_four_treatments[i]),:]\n",
    "    #filter with bounds\n",
    "    outlier_df= drug_df.loc[((drug_df['Final Tumor Volume'] < lower_bound[i]) | \n",
    "                             (drug_df['Final Tumor Volume'] > upper_bound[i])),:]\n",
    "    \n",
    "    #since some of the regimen don't have any outliers, it creates an empty df, we can use the syntax of the if statement\n",
    "    if outlier_df.empty == True:\n",
    "        outliervalue.append('n/a')\n",
    "    else:\n",
    "        outliervalue.append(np.round(outlier_df['Final Tumor Volume'].values[:],2))\n",
    "    \n",
    "#all of our lists should be filled now and we can create our df!\n",
    "iqr_df=pd.DataFrame({\"Drug Regimen\":top_four_treatments,\n",
    "    \"Lower Quartile\": lowerq,\n",
    "    \"Median\":median,\n",
    "    \"Upper Quartile\": upperq,\n",
    "    \"IQR\":iqr,\n",
    "    \"Lower Bound\":lower_bound,\n",
    "    \"Upper Bound\":upper_bound,\n",
    "    \"Outlier Values\":outliervalue})\n",
    "\n",
    "#set the index to drug regimen\n",
    "iqr_df=iqr_df.set_index('Drug Regimen')\n",
    "iqr_df"
   ]
  },
  {
   "cell_type": "code",
   "execution_count": 11,
   "metadata": {},
   "outputs": [
    {
     "data": {
      "image/png": "[encoded data removed]",
      "text/plain": [
       "<Figure size 576x360 with 1 Axes>"
      ]
     },
     "metadata": {
      "needs_background": "light"
     },
     "output_type": "display_data"
    }
   ],
   "source": [
    "# Generate a box plot of the final tumor volume of each mouse across four regimens of interest\n",
    "\n",
    "final_volume_values=[]\n",
    "\n",
    "#will append a list of final tumor volumes for each seperate treatment into our list\n",
    "for drug in top_four_treatments:\n",
    "    drug_df = tumor_df1.loc[(tumor_df1['Drug Regimen'] == drug)]\n",
    "    final_volume_values.append(drug_df[\"Final Tumor Volume\"].tolist())\n",
    "\n",
    "#contruct \n",
    "fig1, ax1 = plt.subplots(figsize=(8,5))\n",
    "#add axis titles\n",
    "ax1.set_title('Final Tumor Volume Box Plots\\n')\n",
    "ax1.set_xlabel('\\nDrug Regimen')\n",
    "ax1.set_ylabel('Final Tumor Volume (mm3)\\n')\n",
    "#filerprops to define the outlier markers\n",
    "flierprops = dict(marker='o', markerfacecolor='r', markersize=7, markeredgecolor='black')\n",
    "ax1.boxplot(final_volume_values,flierprops=flierprops)\n",
    "#rename the x axis ticks with the actual drug regimens\n",
    "plt.xticks(np.arange(1,len(top_four_treatments)+1), top_four_treatments) \n",
    "plt.ylim(0,80)\n",
    "#plt.figure(figsize=(10,6)) \n",
    "plt.show()"
   ]
  },
  {
   "cell_type": "markdown",
   "metadata": {},
   "source": [
    "## Line and scatter plots"
   ]
  },
  {
   "cell_type": "code",
   "execution_count": 12,
   "metadata": {},
   "outputs": [],
   "source": [
    "#find all the mice treated specifically with Capomulin\n",
    "drug = 'Capomulin'\n",
    "cap_mice = mouse_data.loc[(mouse_data['Drug Regimen'] == drug),['Mouse ID','Drug Regimen']]\n",
    "cap_mice=cap_mice.drop_duplicates(subset = 'Mouse ID')\n",
    "#cap_mice"
   ]
  },
  {
   "cell_type": "code",
   "execution_count": 13,
   "metadata": {},
   "outputs": [
    {
     "data": {
      "image/png": "[encoded data removed]",
      "text/plain": [
       "<Figure size 432x288 with 1 Axes>"
      ]
     },
     "metadata": {
      "needs_background": "light"
     },
     "output_type": "display_data"
    }
   ],
   "source": [
    "# Generate a line plot of time point versus tumor volume for a mouse treated with Capomulin\n",
    "\n",
    "#so this cell should create a nice formatted line plot for any mouse, just change mouse variable\n",
    "mouse = 'm601'\n",
    "#filter original df with mouse of our choice\n",
    "mymouse= mouse_data.loc[(mouse_data['Mouse ID'] == mouse),['Mouse ID','Timepoint','Tumor Volume (mm3)','Weight (g)']]\n",
    "\n",
    "#setting axis with columns from df\n",
    "x_axis = mymouse['Timepoint']\n",
    "y_axis = mymouse['Tumor Volume (mm3)']\n",
    "#labels\n",
    "plt.xlabel('Timepoint (days)')\n",
    "plt.ylabel('Tumor Volume (mm3)')\n",
    "plt.title(f'Time vs Tumor Volume, Mouse ID: {mouse}\\n')\n",
    "\n",
    "#setting lims and ticks using min and max values so it will format nicely for any mouse, not just specific to a single mouse\n",
    "plt.xlim(0,x_axis.max())\n",
    "plt.ylim((round(y_axis.min()-2),(round(y_axis.max())+2)))\n",
    "plt.yticks(np.arange((round(y_axis.min())-4),(y_axis.max()+4),2))\n",
    "plt.xticks(np.arange((x_axis.min()),(x_axis.max()+5),5))\n",
    "\n",
    "#more formatting\n",
    "plt.grid()\n",
    "# :O so clip_on=False makes it to where the marker isnt cut off by the edge of the plot!!\n",
    "plt.plot(x_axis,y_axis,marker=\"o\", color=\"blue\", linewidth=1,clip_on=False)\n",
    "plt.show()"
   ]
  },
  {
   "cell_type": "code",
   "execution_count": 14,
   "metadata": {},
   "outputs": [],
   "source": [
    "#shows the df with lineplot data for specified mouse\n",
    "#mymouse"
   ]
  },
  {
   "cell_type": "code",
   "execution_count": 15,
   "metadata": {},
   "outputs": [],
   "source": [
    "# Generate a scatter plot of mouse weight versus average tumor volume for the Capomulin regimen\n",
    "\n",
    "#filter the original df with only Capomulin treated rows\n",
    "#drug variable was defined earlier as 'Capomulin'\n",
    "drug_filter= mouse_data.loc[(mouse_data['Drug Regimen'] == drug),:]\n",
    "#groupby individual mouse\n",
    "group_mouse = drug_filter.groupby(['Mouse ID'])\n",
    "#create dataframe with mean tumor volume and weight of each individual mice\n",
    "group_mouse_df = pd.DataFrame(group_mouse['Tumor Volume (mm3)'].mean())\n",
    "group_mouse_df['Weight (g)'] = group_mouse['Weight (g)'].mean()\n",
    "group_mouse_df = group_mouse_df.rename(columns = {'Tumor Volume (mm3)':'Mean Tumor Volume'})\n",
    "#group_mouse_df.head()"
   ]
  },
  {
   "cell_type": "code",
   "execution_count": 16,
   "metadata": {},
   "outputs": [
    {
     "data": {
      "image/png": "[encoded data removed]",
      "text/plain": [
       "<Figure size 720x504 with 1 Axes>"
      ]
     },
     "metadata": {
      "needs_background": "light"
     },
     "output_type": "display_data"
    },
    {
     "name": "stdout",
     "output_type": "stream",
     "text": [
      "Average Tumor Volume vs Mouse Weight for Capomulin Regimen\n",
      "Linear Regression Model:\n",
      "\n",
      "y = 0.95x+21.55\n",
      "x = Mouse Weight (g)\n",
      "y = Average Tumor Volume (mm3)\n",
      "Correlation Coefficient(R) = 0.842\n"
     ]
    }
   ],
   "source": [
    "# Calculate the correlation coefficient and linear regression model for \n",
    "\n",
    "#mouse weight and average tumor volume for the Capomulin regimen, columns for scatterplot\n",
    "\n",
    "#y vs x, directions say to plot mouse weight vs avg tumor volume\n",
    "#doesn't rly make sense becuase mouse weight is the independent variable so I'm going to plot tumor volume vs weight\n",
    "avgtumor = group_mouse_df.iloc[:, 0]\n",
    "weight = group_mouse_df.iloc[:, 1]\n",
    "\n",
    "#(slope,int, r, p, std_err) from linregress\n",
    "lin = st.linregress(weight,avgtumor)\n",
    "regresslinex=np.arange(weight.min(),weight.max()+2,2)\n",
    "line = regresslinex*lin[0] + lin[1]\n",
    "#string presenting equation\n",
    "eq = f\"y = {round(lin[0],2)}x+{round(lin[1],2)}\"\n",
    "\n",
    "#scatterplot formatting\n",
    "plt.figure(figsize=(10,7))\n",
    "plt.xlabel('Mouse Weight (g)')\n",
    "plt.ylabel('Average Tumor Volume (mm3)')\n",
    "plt.ylim((round(avgtumor.min()-1.5),(round(avgtumor.max())+1.5)))\n",
    "plt.xlim((round(weight.min()-1.5),(round(weight.max())+1.5)))\n",
    "plt.title(f'Average Tumor Volume vs Mouse Weight for {drug} Regimen\\n')\n",
    "plt.scatter(y=avgtumor,x=weight,color='slategrey')\n",
    "\n",
    "\n",
    "#plotting linear regression line with equation annotations \n",
    "plt.plot(regresslinex,line,\"b--\")\n",
    "variables = 'x = Mouse Weight (g) \\ny = Average Tumor Volume (mm3)'\n",
    "plt.annotate(eq,(weight.max()-4,avgtumor.min()+1))\n",
    "plt.annotate(variables,(weight.max()-4,avgtumor.min()))\n",
    "plt.show()\n",
    "\n",
    "#printing out the linear regression results\n",
    "print(f'Average Tumor Volume vs Mouse Weight for {drug} Regimen\\nLinear Regression Model:')\n",
    "print(f'\\n{eq}\\nx = Mouse Weight (g)\\ny = Average Tumor Volume (mm3)')\n",
    "print(f'Correlation Coefficient(R) = {round(lin[2],3)}')"
   ]
  },
  {
   "cell_type": "code",
   "execution_count": null,
   "metadata": {},
   "outputs": [],
   "source": [
    "#ignore cell, was testing something out\n",
    "\n",
    "\n",
    "#lab=['a','a','a','a','a','a','a','a','a','a',\n",
    "#     'b','b','b','b','b','b','b','b','b','b',\n",
    "#     'c','c','c','c','c','c','c','c','c','c',]\n",
    "#numbs=[4,4,4,4,4,4,4,4,8,8,\n",
    "#     4,4,4,4,4,4,4,9,10,9,\n",
    "#     4,4,4,4,4,6,8,6,6,8]\n",
    "\n",
    "#uns=['a','b','c']\n",
    "#random = pd.DataFrame({'label':lab,'numbs':numbs})\n",
    "#outliercountss=[]\n",
    "#outlierdfss=[]\n",
    "#outlieractualvalues=[]\n",
    "#for i in range(len(uns)):\n",
    "#    smort = random.loc[(random['label'] == uns[i]),:]\n",
    "#    out= smort.loc[(smort['numbs'] > 5),:]\n",
    "#    outliercountss.append(len(out))\n",
    "#    outlierdfss.append(out)\n",
    "\n",
    "#for i in range(len(outlierdfss)): \n",
    "#    outlieractualvalues.append(outlierdfss[i]['numbs'].values[:])\n",
    "\n",
    "#outlieractualvalues\n",
    "#\n",
    "#summ=pd.DataFrame({'labels':uns,\n",
    "#                  'outliers':outlieractualvalues})\n",
    "#summ\n"
   ]
  },
  {
   "cell_type": "code",
   "execution_count": null,
   "metadata": {},
   "outputs": [],
   "source": [
    "#whoops, was trying to set up a df to show which drug had the largest tumor change based on the average\n",
    "#tumor change across each drug regimen, but we were already given the treatments we need to work with\n",
    "\n",
    "#thought I would do it anyways, created a df with the change in tumor volume, grouped by the drug and then have the average\n",
    "#tumor volume change, spits out the top four.\n",
    "\n",
    "#curiously, it doesn't match up with the four treatments we were given\n",
    "\n",
    "#initial_vol = mouse_data.drop_duplicates(subset = ['Mouse ID'], keep ='first')\n",
    "#initial_vol = initial_vol[['Mouse ID','Drug Regimen','Tumor Volume (mm3)']]\n",
    "#initial_vol = initial_vol.rename(columns = {'Tumor Volume (mm3)':'Initial Tumor Volume (mm3)'})\n",
    "#final_vol = mouse_data.drop_duplicates(subset = ['Mouse ID'], keep ='last')\n",
    "#final_vol = final_vol[['Mouse ID','Tumor Volume (mm3)']]\n",
    "#final_vol = final_vol.rename(columns = {'Tumor Volume (mm3)':'Final Tumor Volume (mm3)'})\n",
    "#change_df = pd.merge(initial_vol,final_vol, on = \"Mouse ID\")\n",
    "#change_df['Change in Tumor Volume (mm3)'] = change_df['Initial Tumor Volume (mm3)']-change_df['Final Tumor Volume (mm3)']\n",
    "#top = change_df.groupby(['Drug Regimen'])\n",
    "#top_df=pd.DataFrame(top['Change in Tumor Volume (mm3)'].mean())\n",
    "#top_df=top_df.sort_values(\"Change in Tumor Volume (mm3)\",ascending=False)\n",
    "#top_df = top_df.reset_index()\n",
    "#top_df\n",
    "#top_treatments = top_df[:4]\n",
    "#top_treatments\n",
    "#da_best_treatments = top_treatments['Drug Regimen'].values\n",
    "#da_best_treatments\n",
    "#print('The top four most promising treatments:')\n",
    "#for x in da_best_treatments:\n",
    "#    print(x)"
   ]
  }
 ],
 "metadata": {
  "anaconda-cloud": {},
  "kernelspec": {
   "display_name": "Python 3",
   "language": "python",
   "name": "python3"
  },
  "language_info": {
   "codemirror_mode": {
    "name": "ipython",
    "version": 3
   },
   "file_extension": ".py",
   "mimetype": "text/x-python",
   "name": "python",
   "nbconvert_exporter": "python",
   "pygments_lexer": "ipython3",
   "version": "3.7.4"
  }
 },
 "nbformat": 4,
 "nbformat_minor": 2
}
